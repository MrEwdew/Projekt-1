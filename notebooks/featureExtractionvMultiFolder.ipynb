{
 "cells": [
  {
   "cell_type": "code",
   "execution_count": null,
   "metadata": {},
   "outputs": [],
   "source": [
    "# Automatically reload external modules (see https://ipython.org/ipython-doc/3/config/extensions/autoreload.html for more information).\n",
    "%load_ext autoreload\n",
    "%autoreload 2\n",
    "\n",
    "# Set up system path to include our own \"mldog\" python package.\n",
    "import sys\n",
    "sys.path.append('../src')"
   ]
  },
  {
   "cell_type": "code",
   "execution_count": null,
   "metadata": {},
   "outputs": [],
   "source": [
    "import os\n",
    "import pandas as pd\n",
    "from tsfresh.feature_extraction import EfficientFCParameters\n",
    "from tsfresh.feature_extraction import MinimalFCParameters\n",
    "\n",
    "from mldog.util.drill_detect.data import convertDrillTimeSeriesToFeatures"
   ]
  },
  {
   "cell_type": "code",
   "execution_count": null,
   "metadata": {},
   "outputs": [],
   "source": [
    "# Verzeichnis mit Aufzeichnungsunterverzeichnissen eingeben\n",
    "input_folder = \".../Datenaufzeichnung 1\"\n",
    "\n",
    "input_folders = [\n",
    "    os.path.join(input_folder, folder) \n",
    "    for folder in os.listdir(input_folder) \n",
    "    if os.path.isdir(os.path.join(input_folder, folder))\n",
    "]"
   ]
  },
  {
   "cell_type": "code",
   "execution_count": null,
   "metadata": {},
   "outputs": [],
   "source": [
    "import features_reduced as f\n",
    "\n",
    "# Path zu data des Projekts eingeben\n",
    "output_base_dir = \".../team-10/data/\""
   ]
  },
  {
   "cell_type": "markdown",
   "metadata": {},
   "source": [
    "Altes feature Extraction einfach in for schleife eingesetzt"
   ]
  },
  {
   "cell_type": "code",
   "execution_count": null,
   "metadata": {},
   "outputs": [],
   "source": [
    "for input_folder in input_folders:\n",
    "    folder_name = os.path.basename(input_folder)\n",
    "    output_file = os.path.join(output_base_dir, f\"{folder_name}_combined_features.csv\")\n",
    "    \n",
    "    flatten_file_paths = [\n",
    "        os.path.join(input_folder, filename)\n",
    "        for filename in os.listdir(input_folder)\n",
    "    ]\n",
    "    \n",
    "    all_features = pd.DataFrame()\n",
    "    all_measurements = pd.DataFrame()\n",
    "    parameters = f.features\n",
    "    \n",
    "    done = 0\n",
    "    for file_path in flatten_file_paths:\n",
    "        if not file_path.endswith(\"Hz.csv\"):\n",
    "            done += 1\n",
    "            continue\n",
    "        \n",
    "        df = pd.read_csv(file_path)\n",
    "        \n",
    "        # Feature Extraction\n",
    "        print(f\"Processed {done}/{len(flatten_file_paths)} in {folder_name}\")\n",
    "        print(f\"Processing: {file_path}\")\n",
    "        extracted_features = convertDrillTimeSeriesToFeatures(df, fcParameters=parameters)\n",
    "\n",
    "        # File name Spalte\n",
    "        extracted_features[\"dataFile\"] = os.path.basename(file_path)\n",
    "\n",
    "        # Zu Dataframe hinzufügen\n",
    "        all_features = pd.concat([all_features, extracted_features], ignore_index=True)\n",
    "        done += 1\n",
    "    \n",
    "    for file_path in flatten_file_paths:\n",
    "        if \"measurements\" not in file_path:\n",
    "            continue\n",
    "        \n",
    "        all_measurements = pd.concat(\n",
    "            [all_measurements, pd.read_csv(file_path)], ignore_index=True\n",
    "        )\n",
    "    \n",
    "    all_features_labeled = all_features.copy()\n",
    "    all_features_labeled = all_features_labeled.merge(\n",
    "        all_measurements[[\"dataFile\", \"material\"]], on=\"dataFile\", how=\"left\"\n",
    "    )\n",
    "    \n",
    "    all_features_labeled.to_csv(output_file, index=False)\n",
    "    print(f\"Saved results for {folder_name} to {output_file}\")"
   ]
  }
 ],
 "metadata": {
  "kernelspec": {
   "display_name": "drill",
   "language": "python",
   "name": "python3"
  },
  "language_info": {
   "codemirror_mode": {
    "name": "ipython",
    "version": 3
   },
   "file_extension": ".py",
   "mimetype": "text/x-python",
   "name": "python",
   "nbconvert_exporter": "python",
   "pygments_lexer": "ipython3",
   "version": "3.12.7"
  }
 },
 "nbformat": 4,
 "nbformat_minor": 2
}
