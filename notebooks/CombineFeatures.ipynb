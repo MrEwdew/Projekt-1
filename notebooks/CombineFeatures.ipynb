{
 "cells": [
  {
   "cell_type": "code",
   "execution_count": 1,
   "metadata": {},
   "outputs": [
    {
     "name": "stdout",
     "output_type": "stream",
     "text": [
      "../data/features/all/2024-10-21_10-00-37_combined_features.csv\n",
      "../data/features/all/2024-10-21_16-10-16_combined_features.csv\n",
      "../data/features/all/2024-10-22_10-01-46_combined_features.csv\n",
      "../data/features/all/2024-10-23_08-27-56_combined_features.csv\n",
      "../data/features/all/2024-10-23_09-57-09_combined_features.csv\n",
      "../data/features/all/2024-10-24_08-22-58_combined_features.csv\n",
      "../data/features/all/2024-10-24_10-02-57_combined_features.csv\n",
      "../data/features/all/2024-10-24_17-42-23_combined_features.csv\n",
      "../data/features/all/2024-10-25_08-16-46_combined_features.csv\n",
      "../data/features/all/2024-10-25_14-21-47_combined_features.csv\n",
      "../data/features/all/2024-11-25_12-59-57_combined_features.csv\n",
      "../data/features/all/2024-11-26_08-50-54_combined_features.csv\n",
      "../data/features/all/2024-11-26_10-22-38_combined_features.csv\n",
      "../data/features/all/2024-11-28_10-09-05_combined_features.csv\n",
      "../data/features/all/2024-11-28_14-16-38_combined_features.csv\n",
      "../data/features/all/2024-12-04_11-22-23_combined_features.csv\n",
      "../data/features/all/2024-12-04_15-00-47_combined_features.csv\n",
      "../data/features/all/2024-12-05_08-54-51_combined_features.csv\n",
      "../data/features/all/2024-12-06_08-12-42_combined_features.csv\n"
     ]
    }
   ],
   "source": [
    "import os\n",
    "import pandas as pd\n",
    "\n",
    "dir_path = \"../data/features/all/\"\n",
    "csv_files = [\n",
    "    f\n",
    "    for f in os.listdir(dir_path)\n",
    "    if f.endswith(\".csv\") and not f.startswith(\"combined\")\n",
    "]\n",
    "\n",
    "dfs = []\n",
    "\n",
    "for file in csv_files:\n",
    "    file_path = os.path.join(dir_path, file)\n",
    "    print(file_path)\n",
    "    df = pd.read_csv(file_path)\n",
    "    dfs.append(df)\n",
    "\n",
    "combined_df = pd.concat(dfs, ignore_index=True)"
   ]
  },
  {
   "cell_type": "markdown",
   "metadata": {},
   "source": [
    "Check For Target Feature\n"
   ]
  },
  {
   "cell_type": "code",
   "execution_count": 2,
   "metadata": {},
   "outputs": [
    {
     "data": {
      "text/plain": [
       "material\n",
       "kunststoff-pom    400\n",
       "holz-eiche        360\n",
       "metall-alu        360\n",
       "holz-spahn        320\n",
       "holz-span          80\n",
       "Name: count, dtype: int64"
      ]
     },
     "execution_count": 2,
     "metadata": {},
     "output_type": "execute_result"
    }
   ],
   "source": [
    "combined_df[\"material\"].value_counts()"
   ]
  },
  {
   "cell_type": "code",
   "execution_count": 3,
   "metadata": {},
   "outputs": [],
   "source": [
    "combined_df[\"material\"] = combined_df[\"material\"].replace(\"holz-span\", \"holz-spahn\")"
   ]
  },
  {
   "cell_type": "code",
   "execution_count": 4,
   "metadata": {},
   "outputs": [
    {
     "data": {
      "text/plain": [
       "material\n",
       "holz-spahn        400\n",
       "kunststoff-pom    400\n",
       "holz-eiche        360\n",
       "metall-alu        360\n",
       "Name: count, dtype: int64"
      ]
     },
     "execution_count": 4,
     "metadata": {},
     "output_type": "execute_result"
    }
   ],
   "source": [
    "combined_df[\"material\"].value_counts()"
   ]
  },
  {
   "cell_type": "code",
   "execution_count": 5,
   "metadata": {},
   "outputs": [],
   "source": [
    "combined_df.to_csv(os.path.join(dir_path, \"combined_features.csv\"), index=None)"
   ]
  },
  {
   "cell_type": "markdown",
   "metadata": {},
   "source": [
    "Further Split Data into a Train and Test set\n"
   ]
  },
  {
   "cell_type": "code",
   "execution_count": 17,
   "metadata": {},
   "outputs": [],
   "source": [
    "from sklearn.model_selection import train_test_split\n",
    "\n",
    "X = combined_df.drop(\"material\", axis=1)\n",
    "y = combined_df[\"material\"]\n",
    "train, test, y_train, y_test = train_test_split(\n",
    "    X, y, test_size=0.25, stratify=y, random_state=7\n",
    ")\n",
    "\n",
    "train[\"material\"] = y_train\n",
    "test[\"material\"] = y_test\n",
    "\n",
    "\n",
    "train.to_csv(os.path.join(dir_path, \"combined_train.csv\"), index=None)\n",
    "test.to_csv(os.path.join(dir_path, \"combined_test.csv\"), index=None)"
   ]
  }
 ],
 "metadata": {
  "kernelspec": {
   "display_name": "drill",
   "language": "python",
   "name": "python3"
  },
  "language_info": {
   "codemirror_mode": {
    "name": "ipython",
    "version": 3
   },
   "file_extension": ".py",
   "mimetype": "text/x-python",
   "name": "python",
   "nbconvert_exporter": "python",
   "pygments_lexer": "ipython3",
   "version": "3.12.7"
  }
 },
 "nbformat": 4,
 "nbformat_minor": 2
}
