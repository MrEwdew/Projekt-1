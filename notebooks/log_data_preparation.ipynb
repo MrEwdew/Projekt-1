{
 "cells": [
  {
   "cell_type": "markdown",
   "metadata": {},
   "source": [
    "This notebook will convert a measured Drill into a format that is detectable by the DrillProcedureDetector by prepending and appending zeros.\n"
   ]
  },
  {
   "cell_type": "code",
   "execution_count": null,
   "metadata": {},
   "outputs": [
    {
     "name": "stdout",
     "output_type": "stream",
     "text": [
      "Updated CSV saved to ../data/prepanded_data.csv\n"
     ]
    }
   ],
   "source": [
    "import pandas as pd\n",
    "import numpy as np\n",
    "\n",
    "\n",
    "# Function to add data to the CSV\n",
    "def add_data_to_csv(input_file, output_file, rows_to_add=50000):\n",
    "    # Read the existing CSV file into a DataFrame\n",
    "    df = pd.read_csv(input_file, header=None).drop(0) # drop headers\n",
    "\n",
    "    # Check the shape of the data\n",
    "    num_columns = df.shape[1]\n",
    "\n",
    "    # Create 2000 rows of zeros (for both front and back)\n",
    "    new_data_front = np.zeros(\n",
    "        (rows_to_add, num_columns)\n",
    "    )  # 2000 rows of zeros for the front\n",
    "    new_data_back = np.zeros(\n",
    "        (rows_to_add, num_columns)\n",
    "    )  # 2000 rows of zeros for the back\n",
    "\n",
    "    # Convert the generated data into DataFrame\n",
    "    new_data_front_df = pd.DataFrame(new_data_front)\n",
    "    new_data_back_df = pd.DataFrame(new_data_back)\n",
    "\n",
    "    # Combine the new data with the original data (front + original + back)\n",
    "    new_df = pd.concat([new_data_front_df, df, new_data_back_df], ignore_index=True)\n",
    "\n",
    "    # Save the updated DataFrame to a new CSV file\n",
    "    new_df.to_csv(output_file, index=False, header=False)\n",
    "\n",
    "    print(f\"Updated CSV saved to {output_file}\")\n",
    "\n",
    "\n",
    "# Example usage\n",
    "input_csv = \"../data/Beispielsdaten/2024_10_07_13_14_55_96000Hz.csv\"  # Replace with your input CSV file path\n",
    "output_csv = (\n",
    "    \"../data/prepanded_data.csv\"  # Replace with your desired output CSV file path\n",
    ")\n",
    "\n",
    "add_data_to_csv(input_csv, output_csv)"
   ]
  },
  {
   "cell_type": "code",
   "execution_count": null,
   "metadata": {},
   "outputs": [],
   "source": []
  }
 ],
 "metadata": {
  "kernelspec": {
   "display_name": "drill",
   "language": "python",
   "name": "python3"
  },
  "language_info": {
   "codemirror_mode": {
    "name": "ipython",
    "version": 3
   },
   "file_extension": ".py",
   "mimetype": "text/x-python",
   "name": "python",
   "nbconvert_exporter": "python",
   "pygments_lexer": "ipython3",
   "version": "3.12.7"
  }
 },
 "nbformat": 4,
 "nbformat_minor": 2
}
